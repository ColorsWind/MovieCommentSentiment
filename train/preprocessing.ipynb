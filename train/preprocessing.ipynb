{
 "cells": [
  {
   "cell_type": "code",
   "execution_count": 1,
   "id": "d25f8ee1-1787-4502-87e6-fa575738ba54",
   "metadata": {},
   "outputs": [],
   "source": [
    "import numpy as np\n",
    "import pandas as pd\n",
    "import matplotlib.pyplot as plt\n",
    "import re\n",
    "import jieba\n",
    "from gensim.models import word2vec"
   ]
  },
  {
   "cell_type": "markdown",
   "id": "8720314d-1582-4ae8-b6be-5148b7baf814",
   "metadata": {},
   "source": [
    "# 导入豆瓣评论数据"
   ]
  },
  {
   "cell_type": "code",
   "execution_count": 2,
   "id": "6e61c0f3-3984-4b59-8d27-b959f64d6074",
   "metadata": {},
   "outputs": [],
   "source": [
    "train_df = pd.read_csv('DMSC.csv')"
   ]
  },
  {
   "cell_type": "code",
   "execution_count": 3,
   "id": "1d2c967a",
   "metadata": {
    "collapsed": false,
    "jupyter": {
     "outputs_hidden": false
    },
    "pycharm": {
     "name": "#%%\n"
    }
   },
   "outputs": [
    {
     "data": {
      "text/html": [
       "<div>\n",
       "<style scoped>\n",
       "    .dataframe tbody tr th:only-of-type {\n",
       "        vertical-align: middle;\n",
       "    }\n",
       "\n",
       "    .dataframe tbody tr th {\n",
       "        vertical-align: top;\n",
       "    }\n",
       "\n",
       "    .dataframe thead th {\n",
       "        text-align: right;\n",
       "    }\n",
       "</style>\n",
       "<table border=\"1\" class=\"dataframe\">\n",
       "  <thead>\n",
       "    <tr style=\"text-align: right;\">\n",
       "      <th></th>\n",
       "      <th>ID</th>\n",
       "      <th>Movie_Name_EN</th>\n",
       "      <th>Movie_Name_CN</th>\n",
       "      <th>Crawl_Date</th>\n",
       "      <th>Number</th>\n",
       "      <th>Username</th>\n",
       "      <th>Date</th>\n",
       "      <th>Star</th>\n",
       "      <th>Comment</th>\n",
       "      <th>Like</th>\n",
       "    </tr>\n",
       "  </thead>\n",
       "  <tbody>\n",
       "    <tr>\n",
       "      <th>0</th>\n",
       "      <td>0</td>\n",
       "      <td>Avengers Age of Ultron</td>\n",
       "      <td>复仇者联盟2</td>\n",
       "      <td>2017-01-22</td>\n",
       "      <td>1</td>\n",
       "      <td>然潘</td>\n",
       "      <td>2015-05-13</td>\n",
       "      <td>3</td>\n",
       "      <td>连奥创都知道整容要去韩国。</td>\n",
       "      <td>2404</td>\n",
       "    </tr>\n",
       "    <tr>\n",
       "      <th>1</th>\n",
       "      <td>1</td>\n",
       "      <td>Avengers Age of Ultron</td>\n",
       "      <td>复仇者联盟2</td>\n",
       "      <td>2017-01-22</td>\n",
       "      <td>2</td>\n",
       "      <td>更深的白色</td>\n",
       "      <td>2015-04-24</td>\n",
       "      <td>2</td>\n",
       "      <td>非常失望，剧本完全敷衍了事，主线剧情没突破大家可以理解，可所有的人物都缺乏动机，正邪之间、...</td>\n",
       "      <td>1231</td>\n",
       "    </tr>\n",
       "    <tr>\n",
       "      <th>2</th>\n",
       "      <td>2</td>\n",
       "      <td>Avengers Age of Ultron</td>\n",
       "      <td>复仇者联盟2</td>\n",
       "      <td>2017-01-22</td>\n",
       "      <td>3</td>\n",
       "      <td>有意识的贱民</td>\n",
       "      <td>2015-04-26</td>\n",
       "      <td>2</td>\n",
       "      <td>2015年度最失望作品。以为面面俱到，实则画蛇添足；以为主题深刻，实则老调重弹；以为推陈出...</td>\n",
       "      <td>1052</td>\n",
       "    </tr>\n",
       "    <tr>\n",
       "      <th>3</th>\n",
       "      <td>3</td>\n",
       "      <td>Avengers Age of Ultron</td>\n",
       "      <td>复仇者联盟2</td>\n",
       "      <td>2017-01-22</td>\n",
       "      <td>4</td>\n",
       "      <td>不老的李大爷耶</td>\n",
       "      <td>2015-04-23</td>\n",
       "      <td>4</td>\n",
       "      <td>《铁人2》中勾引钢铁侠，《妇联1》中勾引鹰眼，《美队2》中勾引美国队长，在《妇联2》中终于...</td>\n",
       "      <td>1045</td>\n",
       "    </tr>\n",
       "    <tr>\n",
       "      <th>4</th>\n",
       "      <td>4</td>\n",
       "      <td>Avengers Age of Ultron</td>\n",
       "      <td>复仇者联盟2</td>\n",
       "      <td>2017-01-22</td>\n",
       "      <td>5</td>\n",
       "      <td>ZephyrO</td>\n",
       "      <td>2015-04-22</td>\n",
       "      <td>2</td>\n",
       "      <td>虽然从头打到尾，但是真的很无聊啊。</td>\n",
       "      <td>723</td>\n",
       "    </tr>\n",
       "    <tr>\n",
       "      <th>...</th>\n",
       "      <td>...</td>\n",
       "      <td>...</td>\n",
       "      <td>...</td>\n",
       "      <td>...</td>\n",
       "      <td>...</td>\n",
       "      <td>...</td>\n",
       "      <td>...</td>\n",
       "      <td>...</td>\n",
       "      <td>...</td>\n",
       "      <td>...</td>\n",
       "    </tr>\n",
       "    <tr>\n",
       "      <th>2125051</th>\n",
       "      <td>2125051</td>\n",
       "      <td>Zootopia</td>\n",
       "      <td>疯狂动物城</td>\n",
       "      <td>2017-01-04</td>\n",
       "      <td>141196</td>\n",
       "      <td>猫的烟火尾巴</td>\n",
       "      <td>2016-03-06</td>\n",
       "      <td>4</td>\n",
       "      <td>真好看 兔子警官又美有善良又可爱~简直理想结婚对象！每一个动物造型都是那么赞~</td>\n",
       "      <td>0</td>\n",
       "    </tr>\n",
       "    <tr>\n",
       "      <th>2125052</th>\n",
       "      <td>2125052</td>\n",
       "      <td>Zootopia</td>\n",
       "      <td>疯狂动物城</td>\n",
       "      <td>2017-01-04</td>\n",
       "      <td>141197</td>\n",
       "      <td>Tosta</td>\n",
       "      <td>2016-03-05</td>\n",
       "      <td>5</td>\n",
       "      <td>六星好评！像头脑特工队那样惊喜！</td>\n",
       "      <td>0</td>\n",
       "    </tr>\n",
       "    <tr>\n",
       "      <th>2125053</th>\n",
       "      <td>2125053</td>\n",
       "      <td>Zootopia</td>\n",
       "      <td>疯狂动物城</td>\n",
       "      <td>2017-01-04</td>\n",
       "      <td>141198</td>\n",
       "      <td>風立ちぬ</td>\n",
       "      <td>2016-03-11</td>\n",
       "      <td>4</td>\n",
       "      <td>欢乐而又深刻，是童话故事更是政治寓言。</td>\n",
       "      <td>0</td>\n",
       "    </tr>\n",
       "    <tr>\n",
       "      <th>2125054</th>\n",
       "      <td>2125054</td>\n",
       "      <td>Zootopia</td>\n",
       "      <td>疯狂动物城</td>\n",
       "      <td>2017-01-04</td>\n",
       "      <td>141199</td>\n",
       "      <td>P I T T</td>\n",
       "      <td>2016-03-05</td>\n",
       "      <td>5</td>\n",
       "      <td>对现实世界歧视和偏见的影射妙哉妙哉，不要害怕打破常规，try everything</td>\n",
       "      <td>0</td>\n",
       "    </tr>\n",
       "    <tr>\n",
       "      <th>2125055</th>\n",
       "      <td>2125055</td>\n",
       "      <td>Zootopia</td>\n",
       "      <td>疯狂动物城</td>\n",
       "      <td>2017-01-04</td>\n",
       "      <td>141200</td>\n",
       "      <td>普赖尔蒂斯</td>\n",
       "      <td>2016-03-06</td>\n",
       "      <td>5</td>\n",
       "      <td>萌物包装的政治正确片，那个叫Doug穿黄衫戴防毒面具的绵羊的助手叫Walter和Jessi...</td>\n",
       "      <td>0</td>\n",
       "    </tr>\n",
       "  </tbody>\n",
       "</table>\n",
       "<p>2125056 rows × 10 columns</p>\n",
       "</div>"
      ],
      "text/plain": [
       "              ID           Movie_Name_EN Movie_Name_CN  Crawl_Date  Number  \\\n",
       "0              0  Avengers Age of Ultron        复仇者联盟2  2017-01-22       1   \n",
       "1              1  Avengers Age of Ultron        复仇者联盟2  2017-01-22       2   \n",
       "2              2  Avengers Age of Ultron        复仇者联盟2  2017-01-22       3   \n",
       "3              3  Avengers Age of Ultron        复仇者联盟2  2017-01-22       4   \n",
       "4              4  Avengers Age of Ultron        复仇者联盟2  2017-01-22       5   \n",
       "...          ...                     ...           ...         ...     ...   \n",
       "2125051  2125051                Zootopia         疯狂动物城  2017-01-04  141196   \n",
       "2125052  2125052                Zootopia         疯狂动物城  2017-01-04  141197   \n",
       "2125053  2125053                Zootopia         疯狂动物城  2017-01-04  141198   \n",
       "2125054  2125054                Zootopia         疯狂动物城  2017-01-04  141199   \n",
       "2125055  2125055                Zootopia         疯狂动物城  2017-01-04  141200   \n",
       "\n",
       "        Username        Date  Star  \\\n",
       "0             然潘  2015-05-13     3   \n",
       "1          更深的白色  2015-04-24     2   \n",
       "2         有意识的贱民  2015-04-26     2   \n",
       "3        不老的李大爷耶  2015-04-23     4   \n",
       "4        ZephyrO  2015-04-22     2   \n",
       "...          ...         ...   ...   \n",
       "2125051   猫的烟火尾巴  2016-03-06     4   \n",
       "2125052    Tosta  2016-03-05     5   \n",
       "2125053     風立ちぬ  2016-03-11     4   \n",
       "2125054  P I T T  2016-03-05     5   \n",
       "2125055    普赖尔蒂斯  2016-03-06     5   \n",
       "\n",
       "                                                   Comment  Like  \n",
       "0                                            连奥创都知道整容要去韩国。  2404  \n",
       "1         非常失望，剧本完全敷衍了事，主线剧情没突破大家可以理解，可所有的人物都缺乏动机，正邪之间、...  1231  \n",
       "2         2015年度最失望作品。以为面面俱到，实则画蛇添足；以为主题深刻，实则老调重弹；以为推陈出...  1052  \n",
       "3         《铁人2》中勾引钢铁侠，《妇联1》中勾引鹰眼，《美队2》中勾引美国队长，在《妇联2》中终于...  1045  \n",
       "4                                        虽然从头打到尾，但是真的很无聊啊。   723  \n",
       "...                                                    ...   ...  \n",
       "2125051            真好看 兔子警官又美有善良又可爱~简直理想结婚对象！每一个动物造型都是那么赞~     0  \n",
       "2125052                                   六星好评！像头脑特工队那样惊喜！     0  \n",
       "2125053                                欢乐而又深刻，是童话故事更是政治寓言。     0  \n",
       "2125054          对现实世界歧视和偏见的影射妙哉妙哉，不要害怕打破常规，try everything     0  \n",
       "2125055   萌物包装的政治正确片，那个叫Doug穿黄衫戴防毒面具的绵羊的助手叫Walter和Jessi...     0  \n",
       "\n",
       "[2125056 rows x 10 columns]"
      ]
     },
     "execution_count": 3,
     "metadata": {},
     "output_type": "execute_result"
    }
   ],
   "source": [
    "train_df"
   ]
  },
  {
   "cell_type": "markdown",
   "id": "254be0ba-292f-4b5c-a5a4-df2d59dcc6f7",
   "metadata": {},
   "source": [
    "# 查看样本分布"
   ]
  },
  {
   "cell_type": "code",
   "execution_count": 4,
   "id": "8d76757c",
   "metadata": {
    "collapsed": false,
    "jupyter": {
     "outputs_hidden": false
    },
    "pycharm": {
     "name": "#%%\n"
    }
   },
   "outputs": [
    {
     "data": {
      "image/png": "[encoded data removed]",
      "text/plain": [
       "<Figure size 1280x960 with 1 Axes>"
      ]
     },
     "metadata": {},
     "output_type": "display_data"
    }
   ],
   "source": [
    "plt.figure(dpi=200)\n",
    "plt.hist(train_df['Star'], range=[1,5], bins=5, rwidth=0.8)\n",
    "plt.show()"
   ]
  },
  {
   "cell_type": "markdown",
   "id": "c3a32f36-fe16-44e5-8f27-0c175a38609d",
   "metadata": {},
   "source": [
    "# 分词并储存到文件"
   ]
  },
  {
   "cell_type": "code",
   "execution_count": 5,
   "id": "fa00346b-35a1-4585-a468-9a47068f9593",
   "metadata": {},
   "outputs": [],
   "source": [
    "stop_df = pd.read_csv('cn_stopwords.txt')\n",
    "stop_words = set(stop_df.values[:,0])"
   ]
  },
  {
   "cell_type": "code",
   "execution_count": 6,
   "id": "7ee45c9f",
   "metadata": {
    "pycharm": {
     "name": "#%%\n"
    },
    "tags": []
   },
   "outputs": [],
   "source": [
    "class SpiltIter(object):\n",
    "    match = re.compile('[\\w]+')\n",
    "\n",
    "    def __init__(self, text):\n",
    "        self.iter = jieba.cut(text, cut_all=False)\n",
    "\n",
    "    def __iter__(self):\n",
    "        return self\n",
    "\n",
    "    def __next__(self):\n",
    "        while True:\n",
    "            token = next(self.iter)\n",
    "            if self.match.fullmatch(token) and token not in stop_words:\n",
    "                return token"
   ]
  },
  {
   "cell_type": "code",
   "execution_count": 7,
   "id": "c88a6f34-2856-4dc5-bff2-06d20b6973e1",
   "metadata": {},
   "outputs": [],
   "source": [
    "# 只使用20K条评论\n",
    "indicator = np.random.choice(len(train_df), 40000)"
   ]
  },
  {
   "cell_type": "code",
   "execution_count": 8,
   "id": "1f9c71fd-fef8-4f54-b1d9-695d0865d487",
   "metadata": {},
   "outputs": [
    {
     "data": {
      "text/plain": [
       "array([1129220, 1942074, 1855266, ...,  953920, 1864546,  551362])"
      ]
     },
     "execution_count": 8,
     "metadata": {},
     "output_type": "execute_result"
    }
   ],
   "source": [
    "indicator"
   ]
  },
  {
   "cell_type": "code",
   "execution_count": null,
   "id": "65334a9f-0767-437f-b89d-a652c3c7ec7d",
   "metadata": {},
   "outputs": [],
   "source": []
  },
  {
   "cell_type": "code",
   "execution_count": null,
   "id": "ab4376c4",
   "metadata": {
    "collapsed": false,
    "jupyter": {
     "outputs_hidden": false
    },
    "pycharm": {
     "name": "#%%\n"
    }
   },
   "outputs": [],
   "source": [
    "with open(\"data.txt\", \"w\", encoding='utf-8') as f:\n",
    "    for i in indicator:\n",
    "        f.write(\" \".join(SpiltIter(train_df['Comment'][i])))\n",
    "        f.write(\"\\n\")\n",
    "    f.close()"
   ]
  },
  {
   "cell_type": "code",
   "execution_count": 10,
   "id": "196c6647-c5ae-451d-9cdf-f1c0d8221460",
   "metadata": {},
   "outputs": [],
   "source": [
    "label = train_df['Star'][indicator].values.astype(dtype='int')\n",
    "# # 二值化\n",
    "# label[label >= 4] = 1\n",
    "# label[label <= 3] = 0\n",
    "np.savetxt('label.txt', label, fmt='%d')"
   ]
  },
  {
   "cell_type": "markdown",
   "id": "c4ed506e",
   "metadata": {
    "jupyter": {
     "outputs_hidden": false
    },
    "pycharm": {
     "name": "#%% md\n"
    }
   },
   "source": [
    "# 查看句子平均长度"
   ]
  },
  {
   "cell_type": "code",
   "execution_count": 11,
   "id": "acc241dc",
   "metadata": {
    "collapsed": false,
    "jupyter": {
     "outputs_hidden": false
    },
    "pycharm": {
     "name": "#%%\n"
    }
   },
   "outputs": [],
   "source": [
    "data_len = [len(row[1]['Comment']) for row in train_df.iterrows()]"
   ]
  },
  {
   "cell_type": "code",
   "execution_count": 12,
   "id": "e9493803",
   "metadata": {
    "collapsed": false,
    "jupyter": {
     "outputs_hidden": false
    },
    "pycharm": {
     "name": "#%%\n"
    }
   },
   "outputs": [
    {
     "data": {
      "image/png": "[encoded data removed]",
      "text/plain": [
       "<Figure size 1280x960 with 1 Axes>"
      ]
     },
     "metadata": {},
     "output_type": "display_data"
    },
    {
     "data": {
      "text/plain": [
       "200"
      ]
     },
     "execution_count": 12,
     "metadata": {},
     "output_type": "execute_result"
    }
   ],
   "source": [
    "plt.figure(dpi=200)\n",
    "plt.hist(data_len)\n",
    "plt.show()\n",
    "\n",
    "max(data_len)"
   ]
  },
  {
   "cell_type": "code",
   "execution_count": null,
   "id": "d35e2d01-b18c-4b62-be56-d304d4aa1a14",
   "metadata": {},
   "outputs": [],
   "source": []
  }
 ],
 "metadata": {
  "kernelspec": {
   "display_name": "PyCharm (MovieSemantics)",
   "language": "python",
   "name": "pycharm-3f7ee693"
  },
  "language_info": {
   "codemirror_mode": {
    "name": "ipython",
    "version": 3
   },
   "file_extension": ".py",
   "mimetype": "text/x-python",
   "name": "python",
   "nbconvert_exporter": "python",
   "pygments_lexer": "ipython3",
   "version": "3.8.11"
  }
 },
 "nbformat": 4,
 "nbformat_minor": 5
}
